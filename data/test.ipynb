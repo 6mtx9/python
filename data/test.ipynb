{
 "cells": [
  {
   "cell_type": "code",
   "execution_count": 52,
   "id": "3642c05b",
   "metadata": {},
   "outputs": [
    {
     "name": "stdout",
     "output_type": "stream",
     "text": [
      "Importance des caractéristiques :  [0.10244351 0.0236471  0.47977835 0.39413105]\n",
      "Score sur l'ensemble de test :  0.9777777777777777\n"
     ]
    }
   ],
   "source": [
    "from sklearn.datasets import load_iris\n",
    "from sklearn.ensemble import RandomForestClassifier\n",
    "from sklearn.model_selection import train_test_split\n",
    "from sklearn.feature_selection import SelectKBest, f_classif\n",
    "\n",
    "iris = load_iris()\n",
    "X = iris.data\n",
    "y = iris.target\n",
    "X_train, X_test, y_train, y_test = train_test_split(X, y, test_size=0.3, random_state=0)\n",
    "selector = RandomForestClassifier(n_estimators=100, random_state=0)\n",
    "selector.fit(X_train, y_train)\n",
    "print(\"Importance des caractéristiques : \", selector.feature_importances_)\n",
    "mask = selector.feature_importances_ > 0.15\n",
    "X_train_selected = X_train[:, mask]  #filtre avec mask\n",
    "X_test_selected = X_test[:, mask] #filtre avec mask\n",
    "model = RandomForestClassifier(n_estimators=100, random_state=0)\n",
    "model.fit(X_train_selected, y_train)\n",
    "print(\"Score sur l'ensemble de test : \", model.score(X_test_selected, y_test))"
   ]
  },
  {
   "cell_type": "code",
   "execution_count": 38,
   "id": "4f17bbdc",
   "metadata": {},
   "outputs": [
    {
     "name": "stdout",
     "output_type": "stream",
     "text": [
      "Score sur l'ensemble de test :  0.9777777777777777\n"
     ]
    }
   ],
   "source": [
    "selector = SelectKBest(f_classif, k=2)\n",
    "X_train_selected = selector.fit_transform(X_train, y_train)\n",
    "X_test_selected = selector.transform(X_test)\n",
    "model = RandomForestClassifier(n_estimators=100, random_state=0)\n",
    "model.fit(X_train_selected, y_train)\n",
    "print(\"Score sur l'ensemble de test : \", model.score(X_test_selected, y_test))"
   ]
  },
  {
   "cell_type": "code",
   "execution_count": 56,
   "id": "7687d2c4",
   "metadata": {},
   "outputs": [
    {
     "name": "stdout",
     "output_type": "stream",
     "text": [
      "Score sur l'ensemble de test :  0.6666666666666666\n"
     ]
    }
   ],
   "source": [
    "iris = load_iris()\n",
    "X = iris.data\n",
    "y = iris.target\n",
    "X = X[:, :2]\n",
    "X_train, X_test, y_train, y_test = train_test_split(X, y, test_size=0.3, random_state=0)\n",
    "model = RandomForestClassifier(n_estimators=100, random_state=0)\n",
    "model.fit(X_train, y_train)\n",
    "print(\"Score sur l'ensemble de test : \", model.score(X_test, y_test))"
   ]
  },
  {
   "cell_type": "code",
   "execution_count": null,
   "id": "7bd66dbf",
   "metadata": {},
   "outputs": [],
   "source": []
  },
  {
   "cell_type": "code",
   "execution_count": null,
   "id": "b0c79731",
   "metadata": {},
   "outputs": [],
   "source": []
  }
 ],
 "metadata": {
  "kernelspec": {
   "display_name": "Python 3 (ipykernel)",
   "language": "python",
   "name": "python3"
  },
  "language_info": {
   "codemirror_mode": {
    "name": "ipython",
    "version": 3
   },
   "file_extension": ".py",
   "mimetype": "text/x-python",
   "name": "python",
   "nbconvert_exporter": "python",
   "pygments_lexer": "ipython3",
   "version": "3.9.16"
  }
 },
 "nbformat": 4,
 "nbformat_minor": 5
}
