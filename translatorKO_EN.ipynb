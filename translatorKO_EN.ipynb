{
 "cells": [
  {
   "cell_type": "code",
   "execution_count": 18,
   "id": "f2778270",
   "metadata": {},
   "outputs": [],
   "source": [
    "from transformers import AutoTokenizer, AutoModelForSeq2SeqLM"
   ]
  },
  {
   "cell_type": "code",
   "execution_count": null,
   "id": "3e34a9d8",
   "metadata": {
    "scrolled": true
   },
   "outputs": [],
   "source": [
    "tokenizer = AutoTokenizer.from_pretrained(\"KETI-AIR-Downstream/long-ke-t5-base-translation-aihub-bidirection\",model_max_length=512)\n",
    "model = AutoModelForSeq2SeqLM.from_pretrained(\"KETI-AIR-Downstream/long-ke-t5-base-translation-aihub-bidirection\")"
   ]
  },
  {
   "cell_type": "code",
   "execution_count": 17,
   "id": "a0c44047",
   "metadata": {},
   "outputs": [],
   "source": [
    "source = \"\"\"translate_ko2en: 그럼...그...갑작스럽간한데...\"\"\""
   ]
  },
  {
   "cell_type": "code",
   "execution_count": null,
   "id": "51f36d4b",
   "metadata": {},
   "outputs": [],
   "source": [
    "input_ids = tokenizer(source, return_tensors=\"pt\").input_ids\n",
    "gen_seq = model.generate(\n",
    "    input_ids,\n",
    "    num_beams=4,\n",
    "    max_length=1024\n",
    ")\n",
    "print(tokenizer.decode(gen_seq[0], skip_special_tokens=True))"
   ]
  }
 ],
 "metadata": {
  "kernelspec": {
   "display_name": "Python 3.10(tensorflow)",
   "language": "python",
   "name": "tf"
  },
  "language_info": {
   "codemirror_mode": {
    "name": "ipython",
    "version": 3
   },
   "file_extension": ".py",
   "mimetype": "text/x-python",
   "name": "python",
   "nbconvert_exporter": "python",
   "pygments_lexer": "ipython3",
   "version": "3.10.11"
  }
 },
 "nbformat": 4,
 "nbformat_minor": 5
}
