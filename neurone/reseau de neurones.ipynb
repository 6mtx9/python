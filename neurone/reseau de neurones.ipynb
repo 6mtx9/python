{
 "cells": [
  {
   "cell_type": "code",
   "execution_count": 1,
   "id": "3cd4eae4",
   "metadata": {},
   "outputs": [],
   "source": [
    "import numpy as np\n",
    "import matplotlib.pyplot as plt"
   ]
  },
  {
   "cell_type": "code",
   "execution_count": 4,
   "id": "7f35df20",
   "metadata": {},
   "outputs": [],
   "source": [
    "def initialisation(n0,n1,n2):\n",
    "    # Attribution du poids W aléatoirement avec dimension de X\n",
    "    W1 = np.random.randn(n1,n0)\n",
    "    b1 = np.random.randn(n1,1)\n",
    "    W2 = np.random.randn(n2,n1)\n",
    "    b2 = np.random.randn(n2,1)\n",
    "    \n",
    "    parametres = {\n",
    "        'W1':W1,\n",
    "        'b1':b1,\n",
    "        'W2':W2,\n",
    "        'b2':b2\n",
    "    }\n",
    "    return (parametres)"
   ]
  },
  {
   "cell_type": "code",
   "execution_count": 5,
   "id": "7ae7f817",
   "metadata": {},
   "outputs": [],
   "source": [
    "def forward_propagation(X,parametres):\n",
    "    Z1 = X.dot(W) + b\n",
    "    #print(Z.min())\n",
    "    A = 1/(1+np.exp(-Z))\n",
    "    return A"
   ]
  },
  {
   "cell_type": "code",
   "execution_count": 6,
   "id": "3701591d",
   "metadata": {},
   "outputs": [],
   "source": [
    "def log_loss(A,y):\n",
    "    epsilon = 1e-15\n",
    "    return 1/len(y) * np.sum(-y * np.log(A + epsilon) - (1 - y) * np.log(1 - A + epsilon))"
   ]
  },
  {
   "cell_type": "code",
   "execution_count": 7,
   "id": "9500c46c",
   "metadata": {},
   "outputs": [],
   "source": [
    "def gradients(A,X,y):\n",
    "    dW = 1/len(y) * np.dot(X.T ,A - y)\n",
    "    db = 1/len(y) * np.sum(A - y)\n",
    "    return (dW,db)"
   ]
  },
  {
   "cell_type": "code",
   "execution_count": 8,
   "id": "f7cf064e",
   "metadata": {},
   "outputs": [],
   "source": [
    "def update(dW,db,W,b,learning_rate):\n",
    "    W = W - learning_rate * dW\n",
    "    b = b- learning_rate * db\n",
    "    return (W,b)"
   ]
  },
  {
   "cell_type": "code",
   "execution_count": 9,
   "id": "835b05bc",
   "metadata": {},
   "outputs": [],
   "source": [
    "def predict(X,W,b):\n",
    "    A = model(X,W,b)\n",
    "    #print(A)\n",
    "    return A >=0.5"
   ]
  },
  {
   "cell_type": "code",
   "execution_count": null,
   "id": "bc41bccb",
   "metadata": {},
   "outputs": [],
   "source": []
  }
 ],
 "metadata": {
  "kernelspec": {
   "display_name": "Python 3.10(tensorflow)",
   "language": "python",
   "name": "tf"
  },
  "language_info": {
   "codemirror_mode": {
    "name": "ipython",
    "version": 3
   },
   "file_extension": ".py",
   "mimetype": "text/x-python",
   "name": "python",
   "nbconvert_exporter": "python",
   "pygments_lexer": "ipython3",
   "version": "3.10.11"
  }
 },
 "nbformat": 4,
 "nbformat_minor": 5
}
